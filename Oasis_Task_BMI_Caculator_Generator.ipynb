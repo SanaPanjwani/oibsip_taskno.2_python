{
 "cells": [
  {
   "cell_type": "markdown",
   "id": "d582232f",
   "metadata": {},
   "source": [
    "## Develop a graphical BMI calculator with a user-friendly interface (GUI) using libraries like Tkinter or PyQt"
   ]
  },
  {
   "cell_type": "raw",
   "id": "cd0dd624",
   "metadata": {},
   "source": [
    "Body Mass Index (BMI) is a measure that is commonly used to assess whether a person has a healthy body weight for a given height. "
   ]
  },
  {
   "cell_type": "code",
   "execution_count": 3,
   "id": "1c433ef6",
   "metadata": {},
   "outputs": [],
   "source": [
    "import tkinter as tk\n",
    "from tkinter import messagebox\n",
    "\n",
    "def Calculate_BMI():\n",
    "    try:\n",
    "        weight = float(weight_entry.get())\n",
    "        height = float(height_entry.get())\n",
    "        bmi = weight / (height ** 2)\n",
    "        result_label.config(text=f\"BMI: {bmi:.2f}\", fg='blue')\n",
    "    except ValueError:\n",
    "        messagebox.showerror(\"Error\", \"Please enter valid numeric values for weight and height.\")\n",
    "\n",
    "# GUI setup\n",
    "app = tk.Tk()\n",
    "app.title(\"BMI Calculator\")\n",
    "app.configure(bg='lightgreen')\n",
    "\n",
    "# Input fields\n",
    "tk.Label(app, text=\"Weight (kg):\", fg='darkgreen', bg='lightgreen').grid(row=1, column=1)\n",
    "weight_entry = tk.Entry(app)\n",
    "weight_entry.grid(row=1, column=2, columnspan=2)\n",
    "\n",
    "tk.Label(app, text=\"Height (m):\", fg='darkgreen', bg='lightgreen').grid(row=3, column=1)\n",
    "height_entry = tk.Entry(app)\n",
    "height_entry.grid(row=3, column=2, columnspan=2)\n",
    "\n",
    "# Result display\n",
    "result_label = tk.Label(app, text=\"BMI: \", bg='lightgreen', fg='darkgreen')\n",
    "result_label.grid(row=7, column=1, columnspan=2)  # Adjusted row and column\n",
    "\n",
    "# Calculate button\n",
    "calculate_button = tk.Button(app, text=\"Calculate BMI\", command=Calculate_BMI, bg='lightblue', fg='black')\n",
    "calculate_button.grid(row=8, column=1, columnspan=5)\n",
    "\n",
    "app.mainloop()\n"
   ]
  },
  {
   "cell_type": "code",
   "execution_count": null,
   "id": "7532a84e",
   "metadata": {},
   "outputs": [],
   "source": []
  }
 ],
 "metadata": {
  "kernelspec": {
   "display_name": "Python 3 (ipykernel)",
   "language": "python",
   "name": "python3"
  },
  "language_info": {
   "codemirror_mode": {
    "name": "ipython",
    "version": 3
   },
   "file_extension": ".py",
   "mimetype": "text/x-python",
   "name": "python",
   "nbconvert_exporter": "python",
   "pygments_lexer": "ipython3",
   "version": "3.11.0"
  }
 },
 "nbformat": 4,
 "nbformat_minor": 5
}
